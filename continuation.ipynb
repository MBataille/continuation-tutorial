{
 "cells": [
  {
   "cell_type": "code",
   "execution_count": 2,
   "metadata": {},
   "outputs": [],
   "source": [
    "import numpy as np\n",
    "import matplotlib.pyplot as plt\n",
    "from scipy.optimize import fsolve\n",
    "import scipy.sparse as sp"
   ]
  },
  {
   "cell_type": "markdown",
   "metadata": {},
   "source": [
    "# Basics of Continuation\n",
    "\n",
    "## Ressources\n",
    "- Lecture notes Hermann Riecke [pdf](https://www.researchgate.net/publication/228688534_Methods_of_Nonlinear_Analysis_412), [videos](https://youtu.be/VDtvmMSZZjI?si=th6DVQIRiyyPA9UP)\n",
    "- Seydel. Practical bifurcation and stability analysis. (2009)\n",
    "- Kurt Lust PhD thesis on continuation of periodic orbits\n",
    "\n",
    "## Main idea\n",
    "\n",
    "Consider a dynamical system described by the following (system of coupled) ODE(s),\n",
    "\n",
    "$$\n",
    "\\dfrac{d}{dt} \\bm{u} = \\bm{F}(\\bm{u}, \\eta),\n",
    "$$\n",
    "\n",
    "where $\\bm{u}$ is the state vector and $\\eta$ the control parameter. In the case of a PDE or integro-differential equation, it can be discretized in space and approximated by a system of ODEs,\n",
    "corresponding to the above equation.\n",
    "\n",
    "The main objective of numerical continuation, is to obtain both stable and unstable equilibria of the dynamical system as the parameters are varied (bifurcation diagram). In what follows, we will restrict the analysis to only steady states or fixed point, for simplicity. Nevertheless, the method can be extended to find limit cycles as well.\n",
    "\n",
    "\n",
    "### Finding the equilibria\n",
    "\n",
    "Steady states do not evolve in time, therefore they satisfy the following (system of nonlinear) equation(s),\n",
    "\n",
    "$$\n",
    "\\bm{F}(\\bm{u}, \\eta) = 0.\n",
    "$$\n",
    "\n",
    "The above equation can be solved through various methods, the preferred one is Newton-Raphson's for its fast (quadratic) convergence and simplicity. Consider an initial guess $\\bm{u}_0$ close enough to the 'true' solution, succesive points will be determined through the following Eqs.\n",
    "\n",
    "$$\n",
    "\\bm{J}(\\bm{u}_i, \\eta) \\Delta \\bm{u}_{i+1} = -\\bm{F}(\\bm{u}_i, \\eta) \\\\\n",
    "\\bm{u}_{i+1} = \\bm{u}_i + \\Delta \\bm{u}_{i+1}\n",
    "$$\n",
    "\n",
    "Where $\\bm{J}$ is the Jacobian of $\\bm{F}$. Since the Jacobian is computed at each iteration, it can be used to find the stability and detect bifurcation points!\n",
    "\n",
    "We now know how to find a solution for a fixed parameter value, let's see how it can be changed.\n",
    "\n",
    "\n",
    "### Varying the parameter\n",
    "\n",
    "The whole point of the continuation is to obtain the bifurcation diagram, i.e. the solution as the parameter is varied. There are several strategies, the simplest and most frequent are the following.\n",
    "\n",
    "#### Natural parameter continuation\n",
    "\n",
    "The most basic strategy would be to find the solution $\\bm{u}_0$ for $\\eta = \\eta_0$, then take a small step $\\Delta \\eta$, and find the solution $\\bm{u}_1$ for $\\eta = \\eta_0 + \\Delta \\eta$\n",
    "using the previous solution as initial guess. \n",
    "\n",
    "Let's illustrate the method with a simple example, consider the imperfect pitchfork bifurcation with $\\varepsilon = 1$.\n",
    "\n",
    "$$\n",
    "\\dfrac{du}{dt} = \\eta + \\varepsilon u - u^3\n",
    "$$\n",
    "\n",
    "Find the solutions $u(\\eta)$ for $\\eta \\in [-1, 1]$"
   ]
  },
  {
   "cell_type": "code",
   "execution_count": 14,
   "metadata": {},
   "outputs": [
    {
     "data": {
      "image/png": "[encoded data removed]",
      "text/plain": [
       "<Figure size 432x288 with 1 Axes>"
      ]
     },
     "metadata": {
      "needs_background": "light"
     },
     "output_type": "display_data"
    }
   ],
   "source": [
    "epsilon = 1\n",
    "\n",
    "def exact_solution():\n",
    "    xs = np.linspace(-1.4, 1.4, 101)\n",
    "    return xs ** 3 - epsilon * xs, xs\n",
    "\n",
    "def func(x, eta):\n",
    "    return eta + epsilon * x - x ** 3\n",
    "\n",
    "def jac(x, eta):\n",
    "    return epsilon - 3 * x ** 2\n",
    "\n",
    "def scalar_newton(func, jac, x0, *args, tol=1e-6, max_iter=100):\n",
    "    x = x0\n",
    "    for i in range(max_iter):\n",
    "        dx = -func(x, *args) / jac(x, *args)\n",
    "        x += dx\n",
    "        if np.linalg.norm(dx) < tol:\n",
    "            return x\n",
    "    raise ValueError(\"Newton's method did not converge\")\n",
    "\n",
    "def natural_continuation(func, jac, x0, etas, **kwargs):\n",
    "    xs = np.zeros_like(etas)\n",
    "    x = x0\n",
    "    for k, eta in enumerate(etas):\n",
    "        x = scalar_newton(func, jac, x, eta, **kwargs)\n",
    "        xs[k] = x\n",
    "    return xs\n",
    "\n",
    "etas_exact, xs_exact = exact_solution()\n",
    "plt.plot(etas_exact, xs_exact, label='Exact solution')\n",
    "\n",
    "# Forward sweep\n",
    "x0 = -1.4\n",
    "etas_cont = np.linspace(-1.0, 1.0, 11)\n",
    "xs_cont = natural_continuation(func, jac, x0, etas_cont)\n",
    "plt.plot(etas_cont, xs_cont, 'o', label='Forward sweep')\n",
    "\n",
    "# Backward sweep\n",
    "x0 = 1.4\n",
    "etas_cont = etas_cont[::-1]\n",
    "xs_cont = natural_continuation(func, jac, x0, etas_cont)\n",
    "plt.plot(etas_cont, xs_cont, 'o', label='Backward sweep')\n",
    "\n",
    "plt.legend()\n",
    "plt.show()\n"
   ]
  },
  {
   "cell_type": "markdown",
   "metadata": {},
   "source": [
    "\n",
    "It turns out that the control parameter is not necessarily the best way to parametrize the solution curve.\n",
    "\n",
    "#### Pseudo-arclength continuation\n",
    "\n",
    "The PALC algorithm aims to parametrize the solution curve by the arclength $s$, through a predictor-corrector method.\n",
    "\n",
    "Consider we previously know a point of the solution branch $\\bm{y}_0 = (\\bm{u}_0, \\eta_0)$ and the tangent at that point $\\bm{\\tau}_0$. \n",
    "\n",
    "1. *Predictor step*: Extrapolate a distance $\\Delta s$ along the tangent $\\bm{\\tau}_0$ from the previously known point  $(\\bm{u}_0, \\eta_0)$ an use it as initial guess\n",
    "\n",
    "$$\n",
    "\\bm{y} = \\bm{y}_0 + \\bm{\\tau}_0 \\Delta s\n",
    "$$\n",
    "\n",
    "2. *Corrector step*: Force the solution to stay at a distance $\\Delta s$ in the plane perpendicular to the tangent.\n",
    "$$\n",
    "(\\bm{y} - \\bm{y}_0) \\cdot \\bm{\\tau}_0 = \\Delta s\n",
    "$$\n",
    "\n",
    "What is the tangent vector?\n",
    "\n",
    "$$\n",
    "\\bm{\\tau} = \\dfrac{d}{ds} \\bm{y} = \\left(\\dfrac{d\\bm{u}}{ds}, \\dfrac{d\\eta}{ds}\\right)^T\n",
    "$$\n",
    "\n",
    "How can we compute it? Recall that we want to solve the following equation. It is useful to write out the dependance on $s$,\n",
    "\n",
    "$$\n",
    "\\bm{F}(\\bm{u}(s), \\eta(s)) = 0.\n",
    "$$\n",
    "\n",
    "Then take the derivative with respect to $s$,\n",
    "\n",
    "$$\n",
    "\\bm{J}(\\bm{u}(s), \\eta(s)) \\dfrac{d\\bm{u}}{ds} + \\bm{F}_\\eta(\\bm{u}(s), \\eta(s)) \\dfrac{d\\eta}{ds} = 0.\n",
    "$$\n",
    "\n",
    "In order to find a unique solution to the above equation, we need to add another restriction: that the tangent is normalized. For this, it is convenient to fix $\\dfrac{d\\eta}{ds} = 1$ and then solve the above equation for $\\dfrac{d\\bm{u}}{ds}$,\n",
    "\n",
    "$$\n",
    "\\bm{J}(\\bm{u}(s), \\eta(s)) \\dfrac{d\\bm{u}}{ds} = - \\bm{F}_\\eta(\\bm{u}(s), \\eta(s))\n",
    "$$\n",
    "\n",
    "\n",
    "Then, we normalize the tangent vector and choose its orientation such that it matches the orientation of the previous tangent, i.e. such that $\\bm{\\tau} \\cdot \\bm{\\tau}_0 > 0$. In the first step where we don't have a previously known tangent, we can choose the orientation such that its last element is positive to move forward (in $\\eta$) or negative to move backward.\n",
    "\n",
    "To summarize, we need to solve the following extended system,\n",
    "\n",
    "$$\n",
    "\\tilde{\\bm{F}}(\\bm{y}) = \n",
    "\\begin{pmatrix}\n",
    "\\bm{F}(\\bm{y}) \\\\\n",
    "(\\bm{y} - \\bm{y}_0) \\cdot \\bm{\\tau}_0 - \\Delta s\n",
    "\\end{pmatrix}\n",
    "= 0\n",
    "$$\n",
    "\n",
    "Its Jacobian is,\n",
    "$$\n",
    "\\tilde{\\bm{J}}(\\bm{y}) =\n",
    "\\begin{pmatrix}\n",
    "\\bm{J} & \\bm{F}_\\eta \\\\\n",
    "\\dfrac{d\\bm{u}}{ds} & \\dfrac{d\\eta}{ds}\n",
    "\\end{pmatrix}\n",
    "$$"
   ]
  },
  {
   "cell_type": "code",
   "execution_count": 38,
   "metadata": {},
   "outputs": [],
   "source": [
    "def func_eta(y):\n",
    "    return 1\n",
    "\n",
    "def get_tangent(jac, func_eta, y, tau0=None, direction='forward'):\n",
    "    duds = - func_eta(y) / jac(*y)\n",
    "    \n",
    "    tau = np.array([duds, 1])\n",
    "    tau /= np.linalg.norm(tau)\n",
    "    \n",
    "    if tau0 is not None:\n",
    "        if np.dot(tau, tau0) < 0:\n",
    "            tau *= -1\n",
    "    elif (tau[-1] < 0 and direction == 'forward') or (tau[-1] > 0 and direction == 'backward'):\n",
    "        tau *= -1\n",
    "        \n",
    "    return tau\n",
    "\n",
    "def func_extended(y, y0, tau0, ds):\n",
    "    return np.array([func(*y), np.dot(y - y0, tau0) - ds])\n",
    "\n",
    "def jac_extended(y, y0, tau0):\n",
    "    return np.array([[jac(*y), func_eta(y)], tau0])\n",
    "\n",
    "def vector_newton(func, jac, y0, tau0, ds, tol=1e-6, max_iter=100):\n",
    "    y = y0.copy()\n",
    "    for i in range(max_iter):\n",
    "        dy = -np.linalg.solve(jac(y, y0, tau0), func(y, y0, tau0, ds))\n",
    "        y += dy\n",
    "        if np.linalg.norm(dy) < tol:\n",
    "            return y\n",
    "    raise ValueError(\"Newton's method did not converge\")\n",
    "\n",
    "def palc_continuation(func, jac, func_eta, x0, eta0, etaf, ds, direction='forward', max_steps=1_000):\n",
    "    ys = []\n",
    "    etas = []\n",
    "    y = np.array([x0, eta0])\n",
    "    eta = eta0\n",
    "    tau0 = None\n",
    "    for i in range(max_steps):\n",
    "        if (eta > etaf and direction == 'forward') or (eta < etaf and direction == 'backward'):\n",
    "            break\n",
    "        tau0 = get_tangent(jac, func_eta, y, tau0, direction)\n",
    "        y = vector_newton(func_extended, jac_extended, y, tau0, ds, tol=1e-6)\n",
    "        eta = y[-1]\n",
    "        ys.append(y)\n",
    "        \n",
    "        if i >= 1 and jac(*ys[-1]) * jac(*ys[-2]) < 0:\n",
    "            print(f'Bifurcation detected between {ys[-2][-1]} and {ys[-1][-1]}')\n",
    "    return np.array(ys)"
   ]
  },
  {
   "cell_type": "code",
   "execution_count": 41,
   "metadata": {},
   "outputs": [
    {
     "name": "stdout",
     "output_type": "stream",
     "text": [
      "Bifurcation detected between 0.3847301005409914 and 0.38490015498018604\n",
      "Bifurcation detected between -0.38490017942510324 and -0.3847261305248799\n"
     ]
    }
   ],
   "source": [
    "ys = palc_continuation(func, jac, func_eta, -1.4, -1.0, 1.0, 0.01)"
   ]
  },
  {
   "cell_type": "code",
   "execution_count": 35,
   "metadata": {},
   "outputs": [
    {
     "data": {
      "text/plain": [
       "(24, 2)"
      ]
     },
     "execution_count": 35,
     "metadata": {},
     "output_type": "execute_result"
    }
   ],
   "source": [
    "ys.shape"
   ]
  },
  {
   "cell_type": "code",
   "execution_count": 43,
   "metadata": {},
   "outputs": [
    {
     "data": {
      "text/plain": [
       "<matplotlib.legend.Legend at 0x22808aa6af0>"
      ]
     },
     "execution_count": 43,
     "metadata": {},
     "output_type": "execute_result"
    }
   ],
   "source": [
    "%matplotlib qt\n",
    "plt.plot(etas_exact, xs_exact, label='Exact solution')\n",
    "plt.plot(ys[:, 1], ys[:, 0], label='PALC continuation')\n",
    "plt.vlines([0.3848, -0.3848], -1.4, 1.4, linestyle='--', color='gray')\n",
    "plt.legend()"
   ]
  },
  {
   "cell_type": "markdown",
   "metadata": {},
   "source": []
  }
 ],
 "metadata": {
  "kernelspec": {
   "display_name": "base",
   "language": "python",
   "name": "python3"
  },
  "language_info": {
   "codemirror_mode": {
    "name": "ipython",
    "version": 3
   },
   "file_extension": ".py",
   "mimetype": "text/x-python",
   "name": "python",
   "nbconvert_exporter": "python",
   "pygments_lexer": "ipython3",
   "version": "3.9.7"
  }
 },
 "nbformat": 4,
 "nbformat_minor": 2
}
